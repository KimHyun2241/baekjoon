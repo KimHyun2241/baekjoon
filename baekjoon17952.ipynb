{
 "cells": [
  {
   "cell_type": "code",
   "execution_count": 58,
   "metadata": {},
   "outputs": [
    {
     "name": "stdout",
     "output_type": "stream",
     "text": [
      "[(10, 2)]\n"
     ]
    },
    {
     "ename": "IndexError",
     "evalue": "list index out of range",
     "output_type": "error",
     "traceback": [
      "\u001b[1;31m---------------------------------------------------------------------------\u001b[0m",
      "\u001b[1;31mIndexError\u001b[0m                                Traceback (most recent call last)",
      "\u001b[1;32mc:\\pythonExample\\backjoon\\baekjoon17952.ipynb 셀 1\u001b[0m in \u001b[0;36m<cell line: 4>\u001b[1;34m()\u001b[0m\n\u001b[0;32m     <a href='vscode-notebook-cell:/c%3A/pythonExample/backjoon/baekjoon17952.ipynb#W0sZmlsZQ%3D%3D?line=11'>12</a>\u001b[0m             sumPoint \u001b[39m+\u001b[39m\u001b[39m=\u001b[39m info[\u001b[39m1\u001b[39m]\n\u001b[0;32m     <a href='vscode-notebook-cell:/c%3A/pythonExample/backjoon/baekjoon17952.ipynb#W0sZmlsZQ%3D%3D?line=12'>13</a>\u001b[0m \u001b[39melse\u001b[39;00m:\n\u001b[1;32m---> <a href='vscode-notebook-cell:/c%3A/pythonExample/backjoon/baekjoon17952.ipynb#W0sZmlsZQ%3D%3D?line=13'>14</a>\u001b[0m       \u001b[39mif\u001b[39;00m count_num[\u001b[39m1\u001b[39;49m] \u001b[39m-\u001b[39m\u001b[39m1\u001b[39m \u001b[39m>\u001b[39m \u001b[39m0\u001b[39m:\n\u001b[0;32m     <a href='vscode-notebook-cell:/c%3A/pythonExample/backjoon/baekjoon17952.ipynb#W0sZmlsZQ%3D%3D?line=14'>15</a>\u001b[0m             count_num[\u001b[39m1\u001b[39m] \u001b[39m-\u001b[39m\u001b[39m=\u001b[39m \u001b[39m1\u001b[39m\n\u001b[0;32m     <a href='vscode-notebook-cell:/c%3A/pythonExample/backjoon/baekjoon17952.ipynb#W0sZmlsZQ%3D%3D?line=15'>16</a>\u001b[0m       \u001b[39melse\u001b[39;00m:\n",
      "\u001b[1;31mIndexError\u001b[0m: list index out of range"
     ]
    }
   ],
   "source": [
    "number = int(input()) #학기가 몇 분인지 정수 입력\n",
    "count_num = []\n",
    "sumPoint = 0 # 과제 점수 합\n",
    "for i in range(number):\n",
    "      info = list(map(int, input().split())) # i번 째 리스트에 리스트를 추가\n",
    "\n",
    "      if info[0] == 1:\n",
    "            if info[2]-1 > 0:\n",
    "                  count_num.append((info[1], info[2] - 1))\n",
    "                  print(count_num)\n",
    "            else:\n",
    "                  sumPoint += info[1]\n",
    "      else:\n",
    "            if count_num[1] -1 > 0:\n",
    "                  count_num[1] -= 1\n",
    "            else:\n",
    "                  count_num.pop()\n",
    "                  sumPoint += info[1]       \n",
    "\n",
    "print(sumPoint)\n",
    "\n"
   ]
  },
  {
   "cell_type": "code",
   "execution_count": 64,
   "metadata": {},
   "outputs": [
    {
     "name": "stdout",
     "output_type": "stream",
     "text": [
      "1: [(10, 2)]\n",
      "2: (10, 2)\n",
      "3 [(10, 1)]\n",
      "1: [(10, 1), (100, 1)]\n",
      "2: (100, 1)\n",
      "120\n"
     ]
    }
   ],
   "source": [
    "import sys\n",
    "input = sys.stdin.readline\n",
    "number = int(input()) #학기가 몇 분인지 정수 입력\n",
    "count_num = []\n",
    "sumPoint = 0 # 과제 점수 합\n",
    "for i in range(number):\n",
    "      count_num.insert(0, list(map(int, input().split()))) # i번 째 리스트에 리스트를 추가\n",
    "\n",
    "      if count_num[0][0] == 1:\n",
    "            count_num[0][2] -= 1\n",
    "\n",
    "            if count_num[0][2] == 0:\n",
    "                  sumPoint += count_num[0][1]\n",
    "                  count_num.pop(0)\n",
    "                  count_num[0][2] -= 1\n",
    "      else:\n",
    "            count_num.pop(0)\n",
    "            count_num[0][2] -= 1\n",
    "            \n",
    "      if count_num[0][2] == 0:\n",
    "            sumPoint += count_num[0][1]\n",
    "            count_num.pop(0)\n",
    "            count_num[0][2] -= 1\n",
    "\n",
    "print(sumPoint)"
   ]
  },
  {
   "cell_type": "code",
   "execution_count": 1,
   "metadata": {},
   "outputs": [
    {
     "name": "stdout",
     "output_type": "stream",
     "text": [
      "120\n",
      "1\n",
      "0\n",
      "1\n",
      "1\n",
      "0\n"
     ]
    }
   ],
   "source": [
    "number = int(input()) #학기가 몇 분인지 정수 입력\n",
    "count_num = []\n",
    "sumTime = 0 # 과제 해결 시간 합\n",
    "sumPoint = 0 # 과제 점수 합\n",
    "for i in range(number):\n",
    "    count_num.append(i) # 빈 리스트에 추가\n",
    "    count_num[i] = list(map(int, input().split())) # i번 째 리스트에 리스트를 추가\n",
    "\n",
    "for i in range(number-1, -1, -1): # \n",
    "    if len(count_num[i]) > 2:\n",
    "        sumTime += count_num[i][2]\n",
    "        if number < sumTime:\n",
    "            break\n",
    "        sumPoint += count_num[i][1]  \n",
    "        \n",
    "print(sumPoint)"
   ]
  },
  {
   "cell_type": "code",
   "execution_count": null,
   "metadata": {},
   "outputs": [],
   "source": []
  }
 ],
 "metadata": {
  "kernelspec": {
   "display_name": "base",
   "language": "python",
   "name": "python3"
  },
  "language_info": {
   "codemirror_mode": {
    "name": "ipython",
    "version": 3
   },
   "file_extension": ".py",
   "mimetype": "text/x-python",
   "name": "python",
   "nbconvert_exporter": "python",
   "pygments_lexer": "ipython3",
   "version": "3.9.12"
  },
  "orig_nbformat": 4
 },
 "nbformat": 4,
 "nbformat_minor": 2
}
