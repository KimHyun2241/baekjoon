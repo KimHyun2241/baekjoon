{
 "cells": [
  {
   "cell_type": "code",
   "execution_count": 4,
   "metadata": {},
   "outputs": [
    {
     "name": "stdout",
     "output_type": "stream",
     "text": [
      "2\n"
     ]
    }
   ],
   "source": [
    "M, N, D = list(map(int, input().split()))\n",
    "D = str(D)\n",
    "count = 0\n",
    "for i in range(M, N+1):\n",
    "\tfor j in range(2, i+1):\n",
    "\t\tif j == i:\n",
    "\t\t\t\tg = str(j)\n",
    "\t\t\t\tif D in g:\n",
    "\t\t\t\t\tcount += 1\n",
    "\t\tif i % j == 0:\n",
    "\t\t\tbreak\n",
    "print(count)"
   ]
  },
  {
   "cell_type": "code",
   "execution_count": 30,
   "metadata": {},
   "outputs": [
    {
     "name": "stdout",
     "output_type": "stream",
     "text": [
      "2\n"
     ]
    }
   ],
   "source": [
    "M, N, D = list(map(int, input().split()))\n",
    "list_a = []\n",
    "count = 0\n",
    "\n",
    "for i in range(M, N+1):\n",
    "    is_prime = True\n",
    "    for j in range(2, i):\n",
    "        if i % j == 0:\n",
    "            is_prime = False\n",
    "            break\n",
    "    if is_prime:\n",
    "        list_a.append(i)\n",
    "\n",
    "count = sum(str(D) in str(num) for num in list_a)\n",
    "\n",
    "print(count)"
   ]
  },
  {
   "cell_type": "code",
   "execution_count": 5,
   "metadata": {},
   "outputs": [
    {
     "name": "stdout",
     "output_type": "stream",
     "text": [
      "2\n"
     ]
    }
   ],
   "source": [
    "A = [False, False] + [True] * 4000000\n",
    "\n",
    "for i in range(2, 4000000):\n",
    "    if A[i]:\n",
    "        for j in range(i+i, 4000000, i):\n",
    "            A[j] = False\n",
    "                \n",
    "a, b, d = map(int, input().split(\" \"))\n",
    "count = 0\n",
    "for i in range(a, b+1):\n",
    "    if A[i]:\n",
    "        if str(d) in str(i):\n",
    "            count += 1\n",
    "print(count)\n",
    "\"\"\"소수로 차례차례 번호를 매기는 중이다. 베시는 이 번호에서 숫자 D가 몇 번이나 등장하는지 궁금해졌다.\n",
    "\n",
    "베시를 도와 범위 A..B(A와 B 포함)내에서 숫자 D를 포함하는 소수의 개수를 구해보자.\"\"\""
   ]
  }
 ],
 "metadata": {
  "kernelspec": {
   "display_name": "base",
   "language": "python",
   "name": "python3"
  },
  "language_info": {
   "codemirror_mode": {
    "name": "ipython",
    "version": 3
   },
   "file_extension": ".py",
   "mimetype": "text/x-python",
   "name": "python",
   "nbconvert_exporter": "python",
   "pygments_lexer": "ipython3",
   "version": "3.9.12"
  },
  "orig_nbformat": 4
 },
 "nbformat": 4,
 "nbformat_minor": 2
}
