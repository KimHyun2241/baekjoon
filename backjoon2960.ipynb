{
 "cells": [
  {
   "cell_type": "code",
   "execution_count": 34,
   "metadata": {},
   "outputs": [
    {
     "name": "stdout",
     "output_type": "stream",
     "text": [
      "[2, 3, 4, 5, 6, 7, 8, 9, 10, 11, 12, 13, 14, 15, 16, 17, 18, 19, 20]\n"
     ]
    }
   ],
   "source": [
    "N, count = map(int, input().split())\n",
    "list_a = list(range(2, N+1))\n",
    "print(list_a)"
   ]
  },
  {
   "cell_type": "code",
   "execution_count": 36,
   "metadata": {},
   "outputs": [
    {
     "name": "stdout",
     "output_type": "stream",
     "text": [
      "3\n",
      "[4, 5, 6, 7, 8, 9, 10, 11, 12, 13, 14, 15, 16, 17, 18, 19, 20]\n",
      "3\n"
     ]
    },
    {
     "ename": "ValueError",
     "evalue": "list.remove(x): x not in list",
     "output_type": "error",
     "traceback": [
      "\u001b[1;31m---------------------------------------------------------------------------\u001b[0m",
      "\u001b[1;31mValueError\u001b[0m                                Traceback (most recent call last)",
      "\u001b[1;32mc:\\pythonExample\\backjoon\\backjoon2960.ipynb 셀 2\u001b[0m in \u001b[0;36m<cell line: 2>\u001b[1;34m()\u001b[0m\n\u001b[0;32m     <a href='vscode-notebook-cell:/c%3A/pythonExample/backjoon/backjoon2960.ipynb#W1sZmlsZQ%3D%3D?line=11'>12</a>\u001b[0m \u001b[39mprint\u001b[39m(minimum)\n\u001b[0;32m     <a href='vscode-notebook-cell:/c%3A/pythonExample/backjoon/backjoon2960.ipynb#W1sZmlsZQ%3D%3D?line=12'>13</a>\u001b[0m minimum \u001b[39m=\u001b[39m minimum\u001b[39m*\u001b[39mj\n\u001b[1;32m---> <a href='vscode-notebook-cell:/c%3A/pythonExample/backjoon/backjoon2960.ipynb#W1sZmlsZQ%3D%3D?line=13'>14</a>\u001b[0m list_a\u001b[39m.\u001b[39;49mremove(minimum)\n\u001b[0;32m     <a href='vscode-notebook-cell:/c%3A/pythonExample/backjoon/backjoon2960.ipynb#W1sZmlsZQ%3D%3D?line=14'>15</a>\u001b[0m \u001b[39mprint\u001b[39m(list_a)\n",
      "\u001b[1;31mValueError\u001b[0m: list.remove(x): x not in list"
     ]
    }
   ],
   "source": [
    "count_num = 0\n",
    "for i in range(count):\n",
    "    if count == count_num:\n",
    "        print()\n",
    "    else:\n",
    "        minimum = min(list_a)\n",
    "        list_a.remove(minimum)\n",
    "        count_num += 1\n",
    "        print(minimum)\n",
    "        print(list_a)\n",
    "        for j in range(count):\n",
    "            print(minimum)\n",
    "            minimum = minimum*j\n",
    "            list_a.remove(minimum)\n",
    "            print(list_a)\n",
    "            exit()"
   ]
  },
  {
   "cell_type": "code",
   "execution_count": 37,
   "metadata": {},
   "outputs": [
    {
     "name": "stdout",
     "output_type": "stream",
     "text": [
      "12\n"
     ]
    },
    {
     "ename": "",
     "evalue": "",
     "output_type": "error",
     "traceback": [
      "\u001b[1;31m현재 셀 또는 이전 셀에서 코드를 실행하는 동안 Kernel이 충돌했습니다. 셀의 코드를 검토하여 오류의 가능한 원인을 식별하세요. 자세한 내용을 보려면 <a href='https://aka.ms/vscodeJupyterKernelCrash'> 여기 </a> 를 클릭하세요. 자세한 내용은 Jupyter <a href='command:jupyter.viewOutput'>로그</a>를 참조하세요."
     ]
    }
   ],
   "source": [
    "n, k = map(int, input().split())\n",
    "\n",
    "# 1부터 N까지의 수를 저장한 리스트 생성\n",
    "numbers = [i for i in range(2, n+1)]\n",
    "\n",
    "count = 0  # 지워진 수의 개수\n",
    "while numbers:\n",
    "    # 가장 작은 수부터 탐색\n",
    "    p = numbers[0]\n",
    "    for i in numbers:\n",
    "        # 현재 탐색 중인 수가 p의 배수인 경우 제거\n",
    "        if i % p == 0:\n",
    "            numbers.remove(i)\n",
    "            count += 1\n",
    "            # k번째로 지워진 수인 경우 출력하고 종료\n",
    "            if count == k:\n",
    "                print(i)\n",
    "                exit()"
   ]
  }
 ],
 "metadata": {
  "kernelspec": {
   "display_name": "base",
   "language": "python",
   "name": "python3"
  },
  "language_info": {
   "codemirror_mode": {
    "name": "ipython",
    "version": 3
   },
   "file_extension": ".py",
   "mimetype": "text/x-python",
   "name": "python",
   "nbconvert_exporter": "python",
   "pygments_lexer": "ipython3",
   "version": "3.9.12"
  },
  "orig_nbformat": 4
 },
 "nbformat": 4,
 "nbformat_minor": 2
}
