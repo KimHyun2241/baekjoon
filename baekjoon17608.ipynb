{
 "cells": [
  {
   "cell_type": "code",
   "execution_count": 91,
   "metadata": {},
   "outputs": [],
   "source": [
    "import sys\n",
    "input = sys.stdin.readline"
   ]
  },
  {
   "cell_type": "code",
   "execution_count": 93,
   "metadata": {},
   "outputs": [],
   "source": [
    "stick = int(sys.stdin.readline()) # 막대기 갯수\n",
    "list_a = [] # 입력받은 막대기\n",
    "list_b = [] # 마지막 막대기 보다 긴 막대기들\n",
    "i = 0 # while에 사용"
   ]
  },
  {
   "cell_type": "code",
   "execution_count": 90,
   "metadata": {},
   "outputs": [
    {
     "name": "stdout",
     "output_type": "stream",
     "text": [
      "3\n"
     ]
    }
   ],
   "source": [
    "while i < stick: # 막대기 갯수 만큼 while 반복\n",
    "        number = int(sys.stdin.readline())\n",
    "        list_a.append(number)\n",
    "        i += 1\n",
    "for i in range(stick):\n",
    "    if list_a[-1] < list_a[-i-1]: # 오른쪽에서 왼쪽으로 마지막 막대기와 길이 비교\n",
    "        if list_a[-i-1] == max(list_a): # 가장 긴 막대기가 나오면 list_b에 추가 후 break\n",
    "            list_b.append(list_a[-i-1])\n",
    "            break\n",
    "        list_b.append(list_a[-i-1]) # 마지막 막대기보다 긴 막대기 list_b에 추가\n",
    "if len(list_b) == 0 : print(0)  # list_b가 비어 있다면 0 출력\n",
    "else : print(len(set(list_b))+1) # 중복값을  set함수로 정리 후 +1한 후 출력"
   ]
  },
  {
   "cell_type": "code",
   "execution_count": 4,
   "metadata": {},
   "outputs": [
    {
     "name": "stdout",
     "output_type": "stream",
     "text": [
      "3\n"
     ]
    }
   ],
   "source": [
    "import sys\n",
    "input = sys.stdin.readline\n",
    "\n",
    "# 막대기 수 입력\n",
    "stick = int(sys.stdin.readline())\n",
    "list_a = []\n",
    "\n",
    "for i in range(stick):\n",
    "    # 막대기 크기 입력\n",
    "    num = int(sys.stdin.readline())\n",
    "\n",
    "    # 리스트가 비어 있고 리스트의 제일 오른쪽이 입력 받은 값보다 작을 경우\n",
    "    while list_a and list_a[-1] <= num:\n",
    "        # 리스트의 수가 입력 값보다 작을 경우\n",
    "        list_a.pop()\n",
    "    #리스트에 추가\n",
    "    list_a.append(num)\n",
    "answer = len(list_a)\n",
    "print(answer)"
   ]
  },
  {
   "cell_type": "code",
   "execution_count": null,
   "metadata": {},
   "outputs": [],
   "source": []
  }
 ],
 "metadata": {
  "kernelspec": {
   "display_name": "base",
   "language": "python",
   "name": "python3"
  },
  "language_info": {
   "codemirror_mode": {
    "name": "ipython",
    "version": 3
   },
   "file_extension": ".py",
   "mimetype": "text/x-python",
   "name": "python",
   "nbconvert_exporter": "python",
   "pygments_lexer": "ipython3",
   "version": "3.9.12"
  },
  "orig_nbformat": 4
 },
 "nbformat": 4,
 "nbformat_minor": 2
}
