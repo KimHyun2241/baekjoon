{
 "cells": [
  {
   "cell_type": "code",
   "execution_count": 17,
   "metadata": {},
   "outputs": [
    {
     "name": "stdout",
     "output_type": "stream",
     "text": [
      "No\n"
     ]
    }
   ],
   "source": [
    "import sys\n",
    "input = sys.stdin.readline\n",
    "\n",
    "book_count, book_pack = map(int, input().split())\n",
    "A = True # 책의 순서가 맞는지 판별할 때 사용\n",
    "\n",
    "for _ in range(book_pack): # 2더미 만큼 반복\n",
    "    book_flow = int(input()) # 2더미로 나눈 한 더미에서의 책의 층\n",
    "    book_num = list(map(int, input().split())) # 쌓인 책의 번호\n",
    "    for j in range(book_flow-1): # 책의 층 만큼 비교\n",
    "        if book_num[j] < book_num[j+1]: # 숫자의 크기가 내림차순인지 비교\n",
    "            A = False # 아닐 시 False\n",
    "            break\n",
    "    if not A: break # 위에서 이미 A=False 이므로 for 중지\n",
    "\n",
    "print('Yes' if A else 'No')\n",
    "\n"
   ]
  }
 ],
 "metadata": {
  "kernelspec": {
   "display_name": "base",
   "language": "python",
   "name": "python3"
  },
  "language_info": {
   "codemirror_mode": {
    "name": "ipython",
    "version": 3
   },
   "file_extension": ".py",
   "mimetype": "text/x-python",
   "name": "python",
   "nbconvert_exporter": "python",
   "pygments_lexer": "ipython3",
   "version": "3.9.12"
  },
  "orig_nbformat": 4
 },
 "nbformat": 4,
 "nbformat_minor": 2
}
