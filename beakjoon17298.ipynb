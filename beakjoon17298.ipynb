{
 "cells": [
  {
   "cell_type": "code",
   "execution_count": 8,
   "metadata": {},
   "outputs": [
    {
     "name": "stdout",
     "output_type": "stream",
     "text": [
      "5 5 7 "
     ]
    }
   ],
   "source": [
    "count = int(input())\n",
    "list_a = list(map(int, input().split()))\n",
    "\n",
    "if max(list_a) == list_a[0]:\n",
    "    print(-1, end=\" \")\n",
    "    list_a.remove(list_a[0])\n",
    "\n",
    "for i in range(count-1):\n",
    "    if list_a[i] < list_a[i+1]:\n",
    "        if max(list_a) == list_a[0]:\n",
    "            print(-1, end=\" \")\n",
    "            break\n",
    "        print(list_a[i+1], end=\" \")\n",
    "    else:\n",
    "        print(list_a[i], end=\" \")"
   ]
  },
  {
   "cell_type": "code",
   "execution_count": null,
   "metadata": {},
   "outputs": [],
   "source": []
  }
 ],
 "metadata": {
  "kernelspec": {
   "display_name": "base",
   "language": "python",
   "name": "python3"
  },
  "language_info": {
   "codemirror_mode": {
    "name": "ipython",
    "version": 3
   },
   "file_extension": ".py",
   "mimetype": "text/x-python",
   "name": "python",
   "nbconvert_exporter": "python",
   "pygments_lexer": "ipython3",
   "version": "3.9.12"
  },
  "orig_nbformat": 4
 },
 "nbformat": 4,
 "nbformat_minor": 2
}
