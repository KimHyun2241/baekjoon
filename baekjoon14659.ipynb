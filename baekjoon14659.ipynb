{
 "cells": [
  {
   "cell_type": "code",
   "execution_count": 58,
   "metadata": {},
   "outputs": [
    {
     "name": "stdout",
     "output_type": "stream",
     "text": [
      "2\n"
     ]
    }
   ],
   "source": [
    "cnt = int(input()) # 숫자 갯수 입력\n",
    "list_a = list(map(int, input().split())) # 숫자 리스트 입력\n",
    "cnt = 0 # 킬 수 카운트\n",
    "output_num = 0 # 킬 수\n",
    "max_num = 0 # 리스트 내 가장 큰 수\n",
    "\n",
    "for i in list_a: # 리스트 순서대로 비교\n",
    "    if i > max_num: # 자신의 왼쪽의 숫자가 자신보다 클 경우\n",
    "        max_num = i # 큰 숫자로 초기화\n",
    "        cnt = 0 # 0으로 초기화\n",
    "    else:\n",
    "        cnt += 1 # 자신의 왼쪽의 숫자가 자신보다 작을 경우\n",
    "    output_num = max(output_num, cnt) # 앞에 저장한 숫자와 현재 숫자 중 가장 큰 숫자로 초기화\n",
    "print(output_num)"
   ]
  },
  {
   "cell_type": "code",
   "execution_count": 50,
   "metadata": {},
   "outputs": [],
   "source": [
    "cnt = int(input())\n",
    "list_a = list(map(int, input().split()))\n",
    "output_num = 0\n",
    "list_b = []"
   ]
  },
  {
   "cell_type": "code",
   "execution_count": 54,
   "metadata": {},
   "outputs": [
    {
     "name": "stdout",
     "output_type": "stream",
     "text": [
      "4\n"
     ]
    }
   ],
   "source": [
    "for i in range(cnt-1):\n",
    "\n",
    "    if list_a[i] > list_a[i+1]:\n",
    "        output_num += 1\n",
    "        for j in range(cnt-1):\n",
    "            if list_a[i] > list_a[j]:\n",
    "                output_num += 1\n",
    "            else:\n",
    "                list_b.append(output_num)\n",
    "                output_num = 0\n",
    "                break\n",
    "print(max(list_b))"
   ]
  }
 ],
 "metadata": {
  "kernelspec": {
   "display_name": "base",
   "language": "python",
   "name": "python3"
  },
  "language_info": {
   "codemirror_mode": {
    "name": "ipython",
    "version": 3
   },
   "file_extension": ".py",
   "mimetype": "text/x-python",
   "name": "python",
   "nbconvert_exporter": "python",
   "pygments_lexer": "ipython3",
   "version": "3.9.12"
  },
  "orig_nbformat": 4
 },
 "nbformat": 4,
 "nbformat_minor": 2
}
