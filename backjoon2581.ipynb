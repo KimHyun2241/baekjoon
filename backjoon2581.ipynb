{
 "cells": [
  {
   "cell_type": "code",
   "execution_count": 2,
   "metadata": {},
   "outputs": [],
   "source": [
    "M = int(input())\n",
    "N = int(input())\n",
    "list_a = []"
   ]
  },
  {
   "cell_type": "code",
   "execution_count": 3,
   "metadata": {},
   "outputs": [
    {
     "name": "stdout",
     "output_type": "stream",
     "text": [
      "620\n",
      "61\n"
     ]
    }
   ],
   "source": [
    "for i in range(M, N+1):\n",
    "\tfor j in range(2, i+1):\n",
    "\t\tif j == i:\n",
    "\t\t\tlist_a.append(i)\n",
    "\t\tif i % j == 0:\n",
    "\t\t\tbreak\n",
    "\n",
    "if len(list_a) == 0:\n",
    "    print(-1)\n",
    "else:\n",
    "    print(sum(list_a))\n",
    "    print(min(list_a))"
   ]
  },
  {
   "cell_type": "code",
   "execution_count": 7,
   "metadata": {},
   "outputs": [
    {
     "name": "stdout",
     "output_type": "stream",
     "text": [
      "[61, 67, 71, 73, 79, 83, 89, 97]\n",
      "620\n",
      "61\n"
     ]
    }
   ],
   "source": [
    "M = int(input())\n",
    "N = int(input())\n",
    "list_a = list(range(M, N+1))\n",
    "list_b = []\n",
    "\n",
    "for i in range(M, N+1):\n",
    "    if i % 2 != 0:\n",
    "        list_b.append(i)\n",
    "    else:\n",
    "        continue\n",
    "\n",
    "for elem in list_b[:]:\n",
    "    if elem % 3 == 0:\n",
    "        list_b.remove(elem)\n",
    "for elem in list_b[:]:\n",
    "    if elem % 5 == 0:\n",
    "        list_b.remove(elem)\n",
    "for elem in list_b[:]:\n",
    "    if elem % 7 == 0:\n",
    "        list_b.remove(elem)\n",
    "print(list_b)\n",
    "if len(list_a) == 0:\n",
    "    print(-1)\n",
    "else:\n",
    "    print(sum(list_b))\n",
    "    print(min(list_b))"
   ]
  },
  {
   "cell_type": "code",
   "execution_count": 33,
   "metadata": {},
   "outputs": [
    {
     "name": "stdout",
     "output_type": "stream",
     "text": [
      "1669\n",
      "169\n"
     ]
    }
   ],
   "source": [
    "M, N = map(int, input().split())\n",
    "list_a = list(range(M, N+1))\n",
    "list_b = []\n",
    "for i in range(M, N+1):\n",
    "    if i % 2 != 0:\n",
    "        list_b.append(i)\n",
    "    else:\n",
    "        continue\n",
    "    if i % 3 == 0 or i % 5 == 0 or i % 7 == 0:\n",
    "        list_b.remove(i)\n",
    "        \n",
    "if len(list_b) == 0:\n",
    "    print(-1)\n",
    "else:\n",
    "    print(sum(list_b))\n",
    "    print(min(list_b))\n",
    "    ## 런타임에러\n",
    "    # 11이랑 13 안나옴"
   ]
  },
  {
   "cell_type": "code",
   "execution_count": 22,
   "metadata": {},
   "outputs": [
    {
     "name": "stdout",
     "output_type": "stream",
     "text": [
      "60\n"
     ]
    }
   ],
   "source": [
    "a = [11, 13, 17, 19]\n",
    "print(sum(a))"
   ]
  },
  {
   "cell_type": "code",
   "execution_count": 37,
   "metadata": {},
   "outputs": [
    {
     "ename": "NameError",
     "evalue": "name 'shape' is not defined",
     "output_type": "error",
     "traceback": [
      "\u001b[1;31m---------------------------------------------------------------------------\u001b[0m",
      "\u001b[1;31mNameError\u001b[0m                                 Traceback (most recent call last)",
      "\u001b[1;32mc:\\pythonExample\\backjoon\\backjoon2581.ipynb 셀 6\u001b[0m in \u001b[0;36m<cell line: 2>\u001b[1;34m()\u001b[0m\n\u001b[0;32m      <a href='vscode-notebook-cell:/c%3A/pythonExample/backjoon/backjoon2581.ipynb#W5sZmlsZQ%3D%3D?line=0'>1</a>\u001b[0m \u001b[39mlist\u001b[39m \u001b[39m=\u001b[39m [\u001b[39mTrue\u001b[39;00m] \u001b[39m*\u001b[39m (N\u001b[39m+\u001b[39m\u001b[39m1\u001b[39m)\n\u001b[1;32m----> <a href='vscode-notebook-cell:/c%3A/pythonExample/backjoon/backjoon2581.ipynb#W5sZmlsZQ%3D%3D?line=1'>2</a>\u001b[0m \u001b[39mprint\u001b[39m(shape(\u001b[39mlist\u001b[39m))\n",
      "\u001b[1;31mNameError\u001b[0m: name 'shape' is not defined"
     ]
    }
   ],
   "source": [
    "list = [True] * (N+1)\n",
    "print(shape(list))"
   ]
  },
  {
   "cell_type": "code",
   "execution_count": null,
   "metadata": {},
   "outputs": [],
   "source": []
  }
 ],
 "metadata": {
  "kernelspec": {
   "display_name": "base",
   "language": "python",
   "name": "python3"
  },
  "language_info": {
   "codemirror_mode": {
    "name": "ipython",
    "version": 3
   },
   "file_extension": ".py",
   "mimetype": "text/x-python",
   "name": "python",
   "nbconvert_exporter": "python",
   "pygments_lexer": "ipython3",
   "version": "3.9.12"
  },
  "orig_nbformat": 4
 },
 "nbformat": 4,
 "nbformat_minor": 2
}
