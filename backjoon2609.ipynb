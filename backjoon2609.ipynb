{
 "cells": [
  {
   "cell_type": "code",
   "execution_count": 10,
   "metadata": {},
   "outputs": [
    {
     "name": "stdout",
     "output_type": "stream",
     "text": [
      "5000\n",
      "30000\n"
     ]
    }
   ],
   "source": [
    "# 최대공약수(gcd) 계산\n",
    "def gcd(a, b):\n",
    "    for i in range(1, min(a, b)):\n",
    "        if (a % i == 0 and b % i == 0):\n",
    "            gcd_val = i\n",
    "    return gcd_val\n",
    "\n",
    "\n",
    "# 최소공배수(lcm) 계산\n",
    "def lcm(a, b):\n",
    "    return a * b // gcd(a, b)\n",
    "\n",
    "a,b = map(int, input().split())\n",
    "print(gcd(a, b))\n",
    "print(lcm(a, b))"
   ]
  },
  {
   "cell_type": "code",
   "execution_count": null,
   "metadata": {},
   "outputs": [],
   "source": []
  }
 ],
 "metadata": {
  "kernelspec": {
   "display_name": "base",
   "language": "python",
   "name": "python3"
  },
  "language_info": {
   "codemirror_mode": {
    "name": "ipython",
    "version": 3
   },
   "file_extension": ".py",
   "mimetype": "text/x-python",
   "name": "python",
   "nbconvert_exporter": "python",
   "pygments_lexer": "ipython3",
   "version": "3.9.12"
  },
  "orig_nbformat": 4,
  "vscode": {
   "interpreter": {
    "hash": "a9af572dae929132fa87aec0b8acdf0286ae5c031a3ba9a1d57d0b6aac373648"
   }
  }
 },
 "nbformat": 4,
 "nbformat_minor": 2
}
