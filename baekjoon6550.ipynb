{
 "cells": [
  {
   "cell_type": "code",
   "execution_count": 1,
   "metadata": {},
   "outputs": [],
   "source": [
    "import sys\n",
    "input = sys.stdin.readline\n",
    "\n",
    "while True: #멈출때 까지 문자열 입력받음\n",
    "    st = input().rstrip() #문자열 초기화\n",
    "    if not st: #빈 문자열이면 break\n",
    "        break\n",
    "    s, t = st.split() #띄어쓰기 기준으로 s, t에 문자열 초기화\n",
    "    A = 0 #맞으면 1로 변환됨\n",
    "    cnt = 0 \n",
    "    \n",
    "    for i in range(len(t)): #같은 문자열인지 검사\n",
    "        if t[i] == s[cnt]: #같은 문자열이면 cnt += 1\n",
    "            cnt += 1\n",
    "            if cnt == len(s): #s와 길이가 같다면 같은 문자열을 포함\n",
    "                A = 1\n",
    "                break\n",
    "    \n",
    "    if A == 1:\n",
    "        print('Yes')\n",
    "    else:\n",
    "        print('No')"
   ]
  },
  {
   "cell_type": "code",
   "execution_count": null,
   "metadata": {},
   "outputs": [],
   "source": []
  }
 ],
 "metadata": {
  "kernelspec": {
   "display_name": "base",
   "language": "python",
   "name": "python3"
  },
  "language_info": {
   "codemirror_mode": {
    "name": "ipython",
    "version": 3
   },
   "file_extension": ".py",
   "mimetype": "text/x-python",
   "name": "python",
   "nbconvert_exporter": "python",
   "pygments_lexer": "ipython3",
   "version": "3.9.12"
  },
  "orig_nbformat": 4
 },
 "nbformat": 4,
 "nbformat_minor": 2
}
