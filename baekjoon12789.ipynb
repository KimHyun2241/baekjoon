{
 "cells": [
  {
   "cell_type": "code",
   "execution_count": 2,
   "metadata": {},
   "outputs": [],
   "source": [
    "cnt = int(input()) # 숫자 갯수 입력\n",
    "list_a = list(map(int, input().split())) # 숫자 리스트 입력"
   ]
  },
  {
   "cell_type": "code",
   "execution_count": 3,
   "metadata": {},
   "outputs": [
    {
     "name": "stdout",
     "output_type": "stream",
     "text": [
      "6\n",
      "[6, 3, 2, 1, 4, 5]\n"
     ]
    }
   ],
   "source": [
    "print(cnt)\n",
    "print(list_a)"
   ]
  },
  {
   "cell_type": "code",
   "execution_count": 4,
   "metadata": {},
   "outputs": [
    {
     "name": "stdout",
     "output_type": "stream",
     "text": [
      "Sad\n"
     ]
    },
    {
     "ename": "IndexError",
     "evalue": "pop from empty list",
     "output_type": "error",
     "traceback": [
      "\u001b[1;31m---------------------------------------------------------------------------\u001b[0m",
      "\u001b[1;31mIndexError\u001b[0m                                Traceback (most recent call last)",
      "\u001b[1;32mc:\\pythonExample\\backjoon\\baekjoon12789.ipynb 셀 3\u001b[0m in \u001b[0;36m<cell line: 3>\u001b[1;34m()\u001b[0m\n\u001b[0;32m     <a href='vscode-notebook-cell:/c%3A/pythonExample/backjoon/baekjoon12789.ipynb#W2sZmlsZQ%3D%3D?line=11'>12</a>\u001b[0m     \u001b[39mprint\u001b[39m(\u001b[39m\"\u001b[39m\u001b[39mSad\u001b[39m\u001b[39m\"\u001b[39m)\n\u001b[0;32m     <a href='vscode-notebook-cell:/c%3A/pythonExample/backjoon/baekjoon12789.ipynb#W2sZmlsZQ%3D%3D?line=12'>13</a>\u001b[0m     exit()\n\u001b[1;32m---> <a href='vscode-notebook-cell:/c%3A/pythonExample/backjoon/baekjoon12789.ipynb#W2sZmlsZQ%3D%3D?line=13'>14</a>\u001b[0m list_b\u001b[39m.\u001b[39mappend(list_a\u001b[39m.\u001b[39;49mpop(\u001b[39m0\u001b[39;49m))\n",
      "\u001b[1;31mIndexError\u001b[0m: pop from empty list"
     ]
    },
    {
     "ename": "",
     "evalue": "",
     "output_type": "error",
     "traceback": [
      "\u001b[1;31m현재 셀 또는 이전 셀에서 코드를 실행하는 동안 Kernel이 충돌했습니다. 셀의 코드를 검토하여 오류의 가능한 원인을 식별하세요. 자세한 내용을 보려면 <a href='https://aka.ms/vscodeJupyterKernelCrash'> 여기 </a> 를 클릭하세요. 자세한 내용은 Jupyter <a href='command:jupyter.viewOutput'>로그</a>를 참조하세요."
     ]
    }
   ],
   "source": [
    "cnt = int(input()) # 숫자 갯수 입력\n",
    "list_a = list(map(int, input().split())) # 숫자 리스트 입력\n",
    "list_b = []\n",
    "i = 1\n",
    "while cnt:\n",
    "    if len(list_a) != 0 and i == list_a[0]:\n",
    "        list_a.pop(0)\n",
    "        if i == cnt:\n",
    "            print(\"Nice\")\n",
    "            exit()\n",
    "        i += 1\n",
    "    elif len(list_b) != 0 and i == list_b[-1]:\n",
    "        list_b.pop()\n",
    "        if i == cnt:\n",
    "            print(\"Nice\")\n",
    "            exit()\n",
    "        i += 1\n",
    "    else:\n",
    "        if not list_a:\n",
    "            print(\"Sad\")\n",
    "            exit()\n",
    "        list_b.append(list_a.pop(0))\n"
   ]
  },
  {
   "cell_type": "code",
   "execution_count": null,
   "metadata": {},
   "outputs": [],
   "source": []
  }
 ],
 "metadata": {
  "kernelspec": {
   "display_name": "base",
   "language": "python",
   "name": "python3"
  },
  "language_info": {
   "codemirror_mode": {
    "name": "ipython",
    "version": 3
   },
   "file_extension": ".py",
   "mimetype": "text/x-python",
   "name": "python",
   "nbconvert_exporter": "python",
   "pygments_lexer": "ipython3",
   "version": "3.9.12"
  },
  "orig_nbformat": 4
 },
 "nbformat": 4,
 "nbformat_minor": 2
}
