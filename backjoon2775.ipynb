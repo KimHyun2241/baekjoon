{
 "cells": [
  {
   "cell_type": "code",
   "execution_count": 89,
   "metadata": {},
   "outputs": [
    {
     "data": {
      "text/plain": [
       "[1, 2, 3, 4, 5, 6, 7, 8, 9, 10]"
      ]
     },
     "execution_count": 89,
     "metadata": {},
     "output_type": "execute_result"
    }
   ],
   "source": [
    "# k=층\n",
    "# n=호\n",
    "k,n = map(int, input().split())\n",
    "my_ho = list(range(1 ,k+1))\n",
    "\n",
    "my_ho\n",
    "\n",
    "my_floor = list(range(1, k+1))"
   ]
  },
  {
   "cell_type": "code",
   "execution_count": 84,
   "metadata": {},
   "outputs": [
    {
     "name": "stdout",
     "output_type": "stream",
     "text": [
      "[1]\n",
      "1\n"
     ]
    }
   ],
   "source": [
    "my input()\n",
    "print(my_floor)\n",
    "c = 0\n",
    "for i in my_floor:\n",
    "    c = c + my_floor[i-1]\n",
    "    print(c)"
   ]
  },
  {
   "cell_type": "code",
   "execution_count": 5,
   "metadata": {},
   "outputs": [
    {
     "name": "stdout",
     "output_type": "stream",
     "text": [
      "15\n",
      "35\n",
      "10\n"
     ]
    }
   ],
   "source": [
    "t = int(input())\n",
    "\n",
    "for i in range(t):\n",
    "    k = int(input())\n",
    "    n = int(input())\n",
    "    floor = [x for x in range(1, n+1)]\n",
    "    \n",
    "    for j in range(k):\n",
    "        my_floor = [sum(floor[:x+1]) for x in range(n)]\n",
    "        floor = my_floor\n",
    "    print(floor[n-1])"
   ]
  },
  {
   "cell_type": "code",
   "execution_count": 6,
   "metadata": {},
   "outputs": [
    {
     "name": "stdout",
     "output_type": "stream",
     "text": [
      "[1, 2, 3]\n",
      "10\n"
     ]
    }
   ],
   "source": [
    "t = int(input())\n",
    "\n",
    "for i in range(t):\n",
    "    # k층 n호의 인원수를 계산\n",
    "    k = int(input())\n",
    "    n = int(input())\n",
    "    \n",
    "    # 0층의 인원수를 먼저 계산\n",
    "    floor = [x for x in range(1, n+1)]\n",
    "    print(floor)\n",
    "    \n",
    "    # 1층 이상의 인원수를 계산\n",
    "    for j in range(k):\n",
    "        my_floor = [sum(floor[:x+1]) for x in range(n)]\n",
    "        floor = my_floor\n",
    "    \n",
    "    # k층 n호의 인원수를 출력\n",
    "    print(floor[n-1])\n"
   ]
  },
  {
   "cell_type": "code",
   "execution_count": 7,
   "metadata": {},
   "outputs": [
    {
     "ename": "ValueError",
     "evalue": "invalid literal for int() with base 10: ''",
     "output_type": "error",
     "traceback": [
      "\u001b[1;31m---------------------------------------------------------------------------\u001b[0m",
      "\u001b[1;31mValueError\u001b[0m                                Traceback (most recent call last)",
      "\u001b[1;32mc:\\pythonExample\\backjoon\\backjoon2775.ipynb 셀 5\u001b[0m in \u001b[0;36m<cell line: 4>\u001b[1;34m()\u001b[0m\n\u001b[0;32m      <a href='vscode-notebook-cell:/c%3A/pythonExample/backjoon/backjoon2775.ipynb#W4sZmlsZQ%3D%3D?line=3'>4</a>\u001b[0m \u001b[39mfor\u001b[39;00m _ \u001b[39min\u001b[39;00m \u001b[39mrange\u001b[39m(count):\n\u001b[0;32m      <a href='vscode-notebook-cell:/c%3A/pythonExample/backjoon/backjoon2775.ipynb#W4sZmlsZQ%3D%3D?line=4'>5</a>\u001b[0m     k \u001b[39m=\u001b[39m \u001b[39mint\u001b[39m(\u001b[39minput\u001b[39m())\n\u001b[1;32m----> <a href='vscode-notebook-cell:/c%3A/pythonExample/backjoon/backjoon2775.ipynb#W4sZmlsZQ%3D%3D?line=5'>6</a>\u001b[0m     n \u001b[39m=\u001b[39m \u001b[39mint\u001b[39;49m(\u001b[39minput\u001b[39;49m())\n\u001b[0;32m      <a href='vscode-notebook-cell:/c%3A/pythonExample/backjoon/backjoon2775.ipynb#W4sZmlsZQ%3D%3D?line=6'>7</a>\u001b[0m     people \u001b[39m=\u001b[39m []\n\u001b[0;32m      <a href='vscode-notebook-cell:/c%3A/pythonExample/backjoon/backjoon2775.ipynb#W4sZmlsZQ%3D%3D?line=7'>8</a>\u001b[0m     \u001b[39mfor\u001b[39;00m \u001b[39mid\u001b[39m \u001b[39min\u001b[39;00m \u001b[39mrange\u001b[39m(\u001b[39m1\u001b[39m, n\u001b[39m+\u001b[39m\u001b[39m1\u001b[39m):\n",
      "\u001b[1;31mValueError\u001b[0m: invalid literal for int() with base 10: ''"
     ]
    }
   ],
   "source": [
    "count = int(input())\n",
    "result = []\n",
    "\n",
    "for _ in range(count):\n",
    "    k = int(input())\n",
    "    n = int(input())\n",
    "    people = []\n",
    "    for id in range(1, n+1):\n",
    "        people.append(id)\n",
    "    for i in range(k):\n",
    "        for id in range(n):\n",
    "            people.append(sum(people[i*n:i*n+id+1]))\n",
    "    \n",
    "    result.append(people[-1])\n",
    "\n",
    "for i in result:\n",
    "    print(i)"
   ]
  },
  {
   "cell_type": "code",
   "execution_count": null,
   "metadata": {},
   "outputs": [],
   "source": []
  }
 ],
 "metadata": {
  "kernelspec": {
   "display_name": "base",
   "language": "python",
   "name": "python3"
  },
  "language_info": {
   "codemirror_mode": {
    "name": "ipython",
    "version": 3
   },
   "file_extension": ".py",
   "mimetype": "text/x-python",
   "name": "python",
   "nbconvert_exporter": "python",
   "pygments_lexer": "ipython3",
   "version": "3.9.12"
  },
  "orig_nbformat": 4
 },
 "nbformat": 4,
 "nbformat_minor": 2
}
