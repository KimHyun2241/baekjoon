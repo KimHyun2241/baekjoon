{
 "cells": [
  {
   "cell_type": "code",
   "execution_count": 12,
   "metadata": {},
   "outputs": [
    {
     "name": "stdout",
     "output_type": "stream",
     "text": [
      "NO\n",
      "NO\n",
      "YES\n"
     ]
    }
   ],
   "source": [
    "C = int(input())\n",
    "\n",
    "for _ in range(C):\n",
    "    A = input()\n",
    "    if (len(A) % 2) == 0:\n",
    "        count = 0\n",
    "        for i in A:\n",
    "            if i == '(':\n",
    "                count += 1\n",
    "                print(count)\n",
    "            elif i == ')':\n",
    "                count -= 1\n",
    "                if count < 0:\n",
    "                    print(\"NO\")\n",
    "                    break\n",
    "        if count == 0:\n",
    "            print(\"YES\")\n",
    "        elif count > 0:\n",
    "            print(\"NO\")\n",
    "    else:\n",
    "        print(\"NO\")"
   ]
  },
  {
   "cell_type": "code",
   "execution_count": null,
   "metadata": {},
   "outputs": [],
   "source": [
    "C = int(input())\n",
    "\n",
    "for _ in range(C):\n",
    "    A = input()\n",
    "    if (len(A) % 2) == 0:\n",
    "        count = 0\n",
    "        for i in A:\n",
    "            if i == '(':\n",
    "                count += 1\n",
    "                print(count)\n",
    "            elif i == ')':\n",
    "                count -= 1\n",
    "                if count < 0:\n",
    "                    print(\"NO\")\n",
    "                    if count == -1:\n",
    "                        \n",
    "    else:\n",
    "        print(\"NO\")"
   ]
  },
  {
   "cell_type": "code",
   "execution_count": null,
   "metadata": {},
   "outputs": [],
   "source": []
  }
 ],
 "metadata": {
  "kernelspec": {
   "display_name": "base",
   "language": "python",
   "name": "python3"
  },
  "language_info": {
   "codemirror_mode": {
    "name": "ipython",
    "version": 3
   },
   "file_extension": ".py",
   "mimetype": "text/x-python",
   "name": "python",
   "nbconvert_exporter": "python",
   "pygments_lexer": "ipython3",
   "version": "3.9.12"
  },
  "orig_nbformat": 4
 },
 "nbformat": 4,
 "nbformat_minor": 2
}
