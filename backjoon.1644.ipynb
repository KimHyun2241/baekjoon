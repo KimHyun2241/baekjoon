{
 "cells": [
  {
   "cell_type": "code",
   "execution_count": 140,
   "metadata": {},
   "outputs": [],
   "source": [
    "list_a = []\n",
    "input_num = int(input())"
   ]
  },
  {
   "cell_type": "code",
   "execution_count": 141,
   "metadata": {},
   "outputs": [
    {
     "name": "stdout",
     "output_type": "stream",
     "text": [
      "[2, 3, 5, 7, 11, 13, 17, 19, 23, 29, 31, 37, 41, 43, 47, 53, 59, 61, 67, 71, 73, 79, 83, 89, 97, 101, 103, 107, 109, 113, 127, 131, 137, 139, 149, 151, 157, 163, 167, 173, 179]\n"
     ]
    }
   ],
   "source": [
    "for i in range(4000001):\n",
    "\tfor j in range(2, i+1):\n",
    "\t\tif j == i:\n",
    "\t\t\tlist_a.append(i)\n",
    "\t\tif i % j == 0:\n",
    "\t\t\tbreak\n",
    "\tif len(list_a) == input_num:\n",
    "\t\tbreak\n",
    "print(list_a)"
   ]
  },
  {
   "cell_type": "code",
   "execution_count": 142,
   "metadata": {},
   "outputs": [
    {
     "name": "stdout",
     "output_type": "stream",
     "text": [
      "41\n",
      "41\n",
      "41\n",
      "3\n"
     ]
    }
   ],
   "source": [
    "num_count = 0\n",
    "rr = list_a.index(input_num)\n",
    "for j in range(rr+1):\n",
    "    sosu = 0    \n",
    "    for i in range(rr+1):\n",
    "        sosu = sosu + list_a[i+j]\n",
    "        # print(sosu)\n",
    "        if sosu == input_num:\n",
    "            print(sosu)\n",
    "            num_count += 1\n",
    "            break\n",
    "\n",
    "\n",
    "print(num_count)\n",
    "    "
   ]
  },
  {
   "cell_type": "code",
   "execution_count": null,
   "metadata": {},
   "outputs": [],
   "source": []
  },
  {
   "cell_type": "code",
   "execution_count": null,
   "metadata": {},
   "outputs": [],
   "source": []
  }
 ],
 "metadata": {
  "kernelspec": {
   "display_name": "base",
   "language": "python",
   "name": "python3"
  },
  "language_info": {
   "codemirror_mode": {
    "name": "ipython",
    "version": 3
   },
   "file_extension": ".py",
   "mimetype": "text/x-python",
   "name": "python",
   "nbconvert_exporter": "python",
   "pygments_lexer": "ipython3",
   "version": "3.9.12"
  },
  "orig_nbformat": 4
 },
 "nbformat": 4,
 "nbformat_minor": 2
}
